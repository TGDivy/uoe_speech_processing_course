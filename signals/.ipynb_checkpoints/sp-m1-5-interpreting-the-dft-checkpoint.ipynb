{
 "cells": [
  {
   "cell_type": "markdown",
   "metadata": {},
   "source": [
    "#### _Speech Processing Labs 2020: Module 1_"
   ]
  },
  {
   "cell_type": "code",
   "execution_count": null,
   "metadata": {},
   "outputs": [],
   "source": [
    "## Run this first! \n",
    "%matplotlib inline\n",
    "import matplotlib.pyplot as plt\n",
    "import numpy as np\n",
    "\n",
    "import cmath\n",
    "from math import floor\n",
    "from matplotlib.animation import FuncAnimation\n",
    "from IPython.display import HTML\n",
    "plt.style.use('ggplot')\n",
    "\n",
    "from dspMisc import *"
   ]
  },
  {
   "cell_type": "markdown",
   "metadata": {},
   "source": [
    "# 5 Interpreting the  Discrete Fourier Transform\n",
    "\n",
    "### Learning Outcomes\n",
    "* Understand how sampling rate effects the DFT output\n",
    "* Understand what the DFT leakage is.\n",
    "\n",
    "\n",
    "### Need to know\n",
    "* Topic Videos: Fourier Analysis, Frequency Domain\n",
    "* [Digital Signals: Sampling sinusoids](./sp-m1-3-sampling-sinusoids.ipynb)\n",
    "* [The Discrete Fourier Transform](./sp-m1-4-discrete-fourier-transform.ipynb) _(desirable)_\n",
    "\n",
    "<div class=\"alert alert-warning\">\n",
    "<strong>Equation alert</strong>: If you're viewing this on github, please note that the equation rendering is not always perfect. You should view the notebooks through a jupyter notebook server for an accurate view.\n",
    "</div>"
   ]
  },
  {
   "cell_type": "markdown",
   "metadata": {},
   "source": [
    "## 5.1 A Very Quick DFT recap\n",
    "The previous worksheet went through the mechanics of the Discrete Fourier Transform (DFT).  The DFT input and output are broadly: \n",
    "\n",
    "* **Input:**  $N$ amplitude samples over time \n",
    "    * $x[n]$, for $n=1..N$ (i.e. a time series of $N$ samples)\n",
    "    \n",
    "    \n",
    "* **Output:** the dot product (i.e., the similiarity) between the input and $N$ sinusoids with different frequencies\n",
    "    * DFT[k] $= Me^{j\\phi}$, i.e. a complex number with **magnitude** $M$ and **phase** angle $\\phi$\n",
    "\n",
    "The outputs are calculated using the following formula for $k=0,...N-1$.   \n",
    "\n",
    "$$ \n",
    "\\begin{align}\n",
    "DFT[k] &= \\sum_{n=0}^{N-1} x[n] e^{-j \\frac{2\\pi nk}{N}} \\\\\n",
    "&= \\sum_{n=0}^{N-1} x[n]\\big[\\cos\\big(\\frac{2\\pi nk}{N} \\big) - j \\sin\\big(\\frac{2\\pi nk}{N} \\big) \\big]\n",
    "\\end{align}\n",
    "$$\n",
    "\n",
    "We saw how the complex numbers in this equation $e^{-j2\\pi nk/N}$ for $k=1...N-1$ represent sinusoids with specific frequencies as projections of phasors. You can just think of a phasor as an analogue clock with one hand (vector) ticking (rotating) around a clockface (i.e. a circle), where the length of the hand is the amplitude of that wave, and how fast it goes around the clock is it's frequency.\n",
    "\n",
    "Each DFT[k] output essentially tells us how strongly the input is repeats itself (i.e. is periodic) at the frequency of the $k$th DFT phasor. So, we talk about the DFT outputs as providing a **frequency response**. \n",
    "\n",
    "Since the the DFT outputs are complex numbers, we can talk about them in terms of magnitude and phase angle: The magnitude of DFT[k] tells us how much we'd weight the $k$-th phasor if we were to try to reconstruct the original input by adding all the DFT phasors together.  The phase of DFT[k] tells use whether we need to shift that wave along the time axis. "
   ]
  },
  {
   "cell_type": "markdown",
   "metadata": {},
   "source": [
    "## 5.2 The DFT Frequency Response:  Which Frequencies?\n",
    "\n",
    "\n",
    "You will have noticed in the previous worksheet that we only talked about relative frequencies above, e.g. the $e^{-j2\\pi nk/N}$ phasor has $k$ times the frequency of the $e^{-j2\\pi n/N}$ phasor.  \n",
    "\n",
    "\n",
    "\n",
    "Since the frequencies of the DFT phasors are all multiples of the $k=1$ phasor, we just have to figure out the frequency of that phasor and we'll know all the rest. Now, the $k=1$ phasor takes $N$ steps to complete a full cycle of the unit circle.  So, it's frequency depends on how long each of these steps takes.  That is, the **sampling rate**.  \n",
    "\n",
    "Assume we are sampling at a rate of $f_s$ samples per second. Then, we can calculate: \n",
    "\n",
    "* How long between each sample (i.e. the **sampling time**): \n",
    "    * $t_s = 1/f_s$  (seconds)\n",
    "\n",
    "\n",
    "* How long does it take to take $N$ samples?\n",
    "    * $t_s \\times N$  (seconds x samples = seconds)\n",
    "  \n",
    "  \n",
    "* How long will it take the $k=1$ phasor to make 1 complete cycle?\n",
    "    * $T_1 = t_s \\times N$  (seconds)\n",
    "    * This is the **period** or **wavelength** of the phasor\n",
    " \n",
    " \n",
    "* What is the **frequency** of the $k=1$ phasor? \n",
    "    * $f_{min} = 1/T_1 = 1/(t_s N) $ (cycles/second)\n",
    " \n",
    " \n",
    "* What is the **frequency** of the $k$th phasor? \n",
    "    * $kf_{min}$ (cycles/second)\n",
    "    \n",
    "\n",
    "\n",
    "\n",
    "So, the important thing to remember is that the DFT outputs depend on: \n",
    "\n",
    "* The **number of samples** in the input sequence, $N$\n",
    "* The **sampling rate**, $f_s$ samples/second \n"
   ]
  },
  {
   "cell_type": "markdown",
   "metadata": {},
   "source": [
    "### Example\n",
    "Assume we have a sampling rate of $f_s = 32$ samples/second, and an input length of $N=16$. \n",
    "\n",
    "We can then calculate the $k=1$ DFT output frequency by noting the following: \n",
    "\n",
    "* The sampling time is: $t_s = 1/f_s = 1/32$ seconds\n",
    "* So, the time it takes to complete one cycle is: $T_1 = t_sN = 1/32 \\times 16 = 1/2$ seconds\n",
    "* So, the frequency of DFT[1] is $f_{min} = 1/1/2 = 2$ cycles/second"
   ]
  },
  {
   "cell_type": "markdown",
   "metadata": {},
   "source": [
    "### Exercise\n",
    "\n",
    "* What's the frequency of the $k=5$ phasor in the previous example?\n"
   ]
  },
  {
   "cell_type": "markdown",
   "metadata": {},
   "source": [
    "### Notes"
   ]
  },
  {
   "cell_type": "code",
   "execution_count": null,
   "metadata": {},
   "outputs": [],
   "source": []
  },
  {
   "cell_type": "markdown",
   "metadata": {},
   "source": [
    "### Exercise\n",
    "\n",
    "Try running this code which sets the input to be a sine wave with the same frequency as the the 1st DFT component. That is, `f_in = 1/wavlen_in`.   \n"
   ]
  },
  {
   "cell_type": "code",
   "execution_count": null,
   "metadata": {},
   "outputs": [],
   "source": [
    "N=64\n",
    "\n",
    "#sampling rate: \n",
    "f_s = 128\n",
    "\n",
    "## sample time\n",
    "t_s = 1/f_s\n",
    "\n",
    "## Notice that the DFT component frequencies as completely determined by the number of samples N\n",
    "## and the sampling frequency f_s.\n",
    "## So if we wanted the input frequency to exactly match the frequency of the 1st DFT component we\n",
    "## could just do this:\n",
    "\n",
    "wavlen_in = t_s*N\n",
    "f_in = 1/wavlen_in\n",
    "\n",
    "print(\"f_s: %f\\nt_s: %f\\nwavlen: %f\\nf_in %f\" % (f_s, t_s, wavlen_in, f_in))\n",
    "\n",
    "## indices of input sequence of size N\n",
    "nsteps = np.array(range(N))\n",
    "\n",
    "samples_per_cycle = wavlen_in/t_s\n",
    "print(\"samples per cycle %f\" % samples_per_cycle)\n",
    "\n",
    "## Generate a sine wave with f_in matching the frequency of the k=1 DFT phasor\n",
    "## You can look at the code for this function in the file XXX.py\n",
    "\n",
    "x, time_steps = gen_sinusoid(frequency=f_in, phase=0, amplitude=1, sample_rate=f_s, seq_length=N, gen_function=np.sin)\n",
    "\n",
    "\n",
    "## Plot the input\n",
    "fig, timedom = plt.subplots(figsize=(16, 4))\n",
    "timedom.scatter(time_steps, x, color='magenta')\n",
    "timedom.plot(time_steps, x, color='magenta')\n",
    "timedom.set_xlabel(\"time (s)\")\n",
    "timedom.set_ylabel(\"Amplitude\")\n",
    "timedom.set_title(\"Input: $x[n]$ in the time domain\")"
   ]
  },
  {
   "cell_type": "code",
   "execution_count": null,
   "metadata": {},
   "outputs": [],
   "source": [
    "## Calculate the frequencies associated with each DFT output\n",
    "def get_dft_freqs_all(sample_rate, seq_len):\n",
    "    ## Get the minimum frequency\n",
    "    f_min = sample_rate/seq_len\n",
    "    \n",
    "    ## All the other frequencies are just integer multiples of the minimum frequency\n",
    "    ## We have 0,...,seq_len-1 outputs\n",
    "    dft_outs = np.arange(seq_len)\n",
    "    \n",
    "    return f_min * dft_outs"
   ]
  },
  {
   "cell_type": "code",
   "execution_count": null,
   "metadata": {},
   "outputs": [],
   "source": [
    "## Find the DFT output frequencies for our current sample rate and input length\n",
    "dft_freqs = get_dft_freqs_all(sample_rate=f_s, seq_len=N)\n",
    "print(dft_freqs)\n"
   ]
  },
  {
   "cell_type": "code",
   "execution_count": null,
   "metadata": {
    "scrolled": true
   },
   "outputs": [],
   "source": [
    "## Apply the DFT to the input and return the magnitudes and phases for each DFT output\n",
    "mags, phases = get_dft_mag_phase(x, seq_len=N)\n",
    "\n",
    "## Plot the magnitudes\n",
    "fig, fdom = plt.subplots(figsize=(16, 4))\n",
    "fdom.scatter(dft_freqs, mags)\n",
    "fdom.set_xlabel(\"Frequency (Hz)\")\n",
    "fdom.set_ylabel(\"Magnitude\")\n",
    "fdom.set_title(\"Magnitude response\")\n",
    "\n",
    "\n",
    "#print(mags)\n",
    "\n",
    "## Plot the phases\n",
    "fig, fdom = plt.subplots(figsize=(16, 4))\n",
    "fdom.scatter(dft_freqs, phases)\n",
    "fdom.set_xlabel(\"Frequency (Hz)\")\n",
    "fdom.set_ylabel(\"Phase angle (radians)\")\n",
    "fdom.set_title(\"Phase response\")\n",
    "\n",
    "\n",
    "\n",
    "\n",
    "#print(phases)\n"
   ]
  },
  {
   "cell_type": "markdown",
   "metadata": {},
   "source": [
    "### Exercise\n",
    "\n",
    "* Is the output what you'd expect given the input? \n",
    "* Why is the phase non-zero for the DFT output's 1 and 63? \n",
    "* What happens if you change the `amplitude` of the input sine wave? What about the `phase`? \n",
    "* What happens to the range of DFT output frequencies if you increase the sampling rate `f_s` but keep the input sequence length `N` fixed? \n",
    "* What happens to the range of DFT output frequencies for $k > N/2$? Can the DFT actually model those frequencies? "
   ]
  },
  {
   "cell_type": "markdown",
   "metadata": {},
   "source": [
    "### Notes"
   ]
  },
  {
   "cell_type": "code",
   "execution_count": null,
   "metadata": {},
   "outputs": [],
   "source": []
  },
  {
   "cell_type": "markdown",
   "metadata": {},
   "source": [
    "## 5.3 DFT on a compound waveform\n",
    "\n",
    "Now, let's see what happens when we use a compound waverform as input to the DFT.  First we need to set the length of the sequence and the sample rate. "
   ]
  },
  {
   "cell_type": "code",
   "execution_count": null,
   "metadata": {},
   "outputs": [],
   "source": [
    "## Set the number of samples N, sampling rate f_s\n",
    "N=64\n",
    "\n",
    "#sampling rate: \n",
    "f_s = 64\n",
    "\n",
    "## sample time\n",
    "t_s = 1/f_s\n",
    "\n",
    "print(\"N: %d\\nf_s: %f\\nt_s: %f\" % (N, f_s, t_s))"
   ]
  },
  {
   "cell_type": "markdown",
   "metadata": {},
   "source": [
    "Let's create a compound waveform as input with frequency components of 4Hz and 12Hz:"
   ]
  },
  {
   "cell_type": "code",
   "execution_count": null,
   "metadata": {},
   "outputs": [],
   "source": [
    "## Now let's create a compound waveform as input\n",
    "## We're setting gen_function=np.cos, meaning that each of our sinusoids is a cosine wave \n",
    "x1, time_steps = gen_sinusoid(frequency=4, phase=0, amplitude=1, sample_rate=f_s, seq_length=N, gen_function=np.cos)\n",
    "\n",
    "## Let's shift the phase of this one by 90 degrees (pi/2 rads)\n",
    "x2, time_steps = gen_sinusoid(frequency=12, phase=np.pi/2, amplitude=1, sample_rate=f_s, seq_length=N, gen_function=np.cos)\n",
    "\n",
    "\n",
    "x_compound = x1 + x2\n",
    "\n",
    "## Plot the input\n",
    "fig, timedom = plt.subplots(figsize=(16, 4))\n",
    "timedom.scatter(time_steps, x_compound, color='magenta')\n",
    "timedom.plot(time_steps, x_compound, color='magenta')\n",
    "timedom.set_xlabel(\"time (s)\")\n",
    "timedom.set_ylabel(\"Amplitude\")\n",
    "timedom.set_title(\"A compound waveform: $x_compound$ in the time domain\")"
   ]
  },
  {
   "cell_type": "markdown",
   "metadata": {},
   "source": [
    "You should see a somewhat complicated waveform whose overall pattern repeats 4 times in a second.  Now we do the DFT and look at the magnitude and phase values for the different DFT outputs.  "
   ]
  },
  {
   "cell_type": "code",
   "execution_count": null,
   "metadata": {},
   "outputs": [],
   "source": [
    "## Do the DFT on the compound waveform as above: \n",
    "mags, phases = get_dft_mag_phase(x_compound, seq_len=N)\n",
    "dft_freqs = get_dft_freqs_all(sample_rate=f_s, seq_len=N)\n",
    "\n",
    "## Plot the magnitudes\n",
    "fig, fdom = plt.subplots(figsize=(16, 4))\n",
    "#timedom.scatter(dft_freqs[:round(N)], mags[:round(N)])\n",
    "fdom.scatter(dft_freqs[:round(N/2)], mags[:round(N/2)])\n",
    "fdom.set_xlabel(\"Frequency (Hz)\")\n",
    "fdom.set_ylabel(\"Magnitude\")\n",
    "fdom.set_title(\"Magnitude response\")\n",
    "#print(mags)\n",
    "\n",
    "## Plot the phases - let's just skip this for the moment \n",
    "fig, fdom = plt.subplots(figsize=(16, 4))\n",
    "fdom.scatter(dft_freqs[:round(N/2)], phases[:round(N/2)])\n",
    "fdom.set_xlabel(\"Frequency (Hz)\")\n",
    "fdom.set_ylabel(\"Phase (rad)\")\n",
    "fdom.set_title(\"Phase response\")\n",
    "#print(phases)\n"
   ]
  },
  {
   "cell_type": "markdown",
   "metadata": {},
   "source": [
    "### Exercise\n",
    "\n",
    "* Do you see what you would expect given the input? \n",
    "* Why does the number of non-zero phases differ from the number of non-zero magnitudes?\n"
   ]
  },
  {
   "cell_type": "markdown",
   "metadata": {},
   "source": [
    "### Notes\n"
   ]
  },
  {
   "cell_type": "code",
   "execution_count": null,
   "metadata": {},
   "outputs": [],
   "source": []
  },
  {
   "cell_type": "markdown",
   "metadata": {},
   "source": [
    "### Exercise \n",
    "\n",
    "Explore the outputs of the DFT when you change the following parameters\n",
    "* sampling rate `f_s`\n",
    "* sequence length `N`\n",
    "* frequency of the input sequence(s) `frequency` (in the function `gen_sinusoid`)\n",
    "\n",
    "\n",
    "**Question**\n",
    "* What happens if you set the frequency of one of the input components to be greater than the Nyquist frequency? \n",
    "* What happens when the frequency of the input components doesn't match any of the DFT component frequencies? \n",
    "(e.g. for the example above what if one of the input frequencies is not a whole number?) \n",
    "\n",
    "\n"
   ]
  },
  {
   "cell_type": "markdown",
   "metadata": {},
   "source": [
    "### Notes"
   ]
  },
  {
   "cell_type": "code",
   "execution_count": null,
   "metadata": {},
   "outputs": [],
   "source": []
  },
  {
   "cell_type": "markdown",
   "metadata": {},
   "source": [
    "## 5.4  Leakage\n",
    "\n",
    "One of the main things to remember about the DFT is that you're calculating the correlation between the input and phasors with specific frequencies.  If your input exactly matches one of those phasor frequencies the magnitude response will show a positive magnitude for that phasor and zero for everything else.  However, if the input frequency falls between phasor frequencies (i.e. doesn't correspond to a specific DFT output), then you'll see spectral **leakage**.  The DFT outputs close to the input frequency will also get positive magnitudes, with the DFT output closest to the input frequency getting the highest magnitude. \n",
    "\n",
    "The following code gives an example\n"
   ]
  },
  {
   "cell_type": "code",
   "execution_count": null,
   "metadata": {},
   "outputs": [],
   "source": [
    "N=64\n",
    "f_s = 64\n",
    "f_in1 = 4.5 ## In between DFT output frequencies\n",
    "f_in2 = 12  ## One of the DFT outputs\n",
    "\n",
    "x1, time_steps = gen_sinusoid(frequency=f_in1, phase=0, amplitude=1, sample_rate=f_s, seq_length=N, gen_function=np.cos)\n",
    "x2, time_steps = gen_sinusoid(frequency=f_in2, phase=np.pi/2, amplitude=1, sample_rate=f_s, seq_length=N, gen_function=np.cos)\n",
    "x_compound = x1  + x2\n",
    "\n",
    "## Plot the input\n",
    "fig, timedom = plt.subplots(figsize=(16, 4))\n",
    "timedom.scatter(time_steps, x_compound, color='magenta')\n",
    "timedom.plot(time_steps, x_compound, color='magenta')\n",
    "timedom.set_xlabel(\"time (s)\")\n",
    "timedom.set_ylabel(\"Amplitude\")\n",
    "timedom.set_title(\"Leakage example (time domain)\")\n",
    "\n"
   ]
  },
  {
   "cell_type": "code",
   "execution_count": null,
   "metadata": {},
   "outputs": [],
   "source": [
    "## Do the DFT on the compound waveform as above: \n",
    "mags, phases = get_dft_mag_phase(x_compound, seq_len=N)\n",
    "dft_freqs = get_dft_freqs_all(sample_rate=f_s, seq_len=N)\n",
    "\n",
    "## Plot the magnitudes\n",
    "fig, fdom = plt.subplots(figsize=(16, 4))\n",
    "\n",
    "## Just plot the first N/2 frequencies since we know that they are the mirrored for k>N/2\n",
    "fdom.scatter(dft_freqs[:round(N/2)], mags[:round(N/2)])\n",
    "fdom.set_xlabel(\"Frequency (Hz)\")\n",
    "fdom.set_ylabel(\"Magnitude\")\n",
    "fdom.set_title(\"Leakage example: Magnitude response\")\n",
    "#print(mags)\n"
   ]
  },
  {
   "cell_type": "markdown",
   "metadata": {},
   "source": [
    "\n",
    "### Leakage as the normalized sinc function \n",
    "\n",
    "Leakage makes the DFT harder to interpret. However, we can derive the shape that leakage will have from the the DFT equation and some algebra about rectangular functions.  It turns out that leakage for a particular frequency follows the normalized **sinc** function: \n",
    "\n",
    "$$\n",
    "\\begin{align}\n",
    "X(m) &= \\Big|\\frac{AN}{2} \\cdot \\mathop{sinc}(c-m)\\Big|\\\\\n",
    "&= \\Big|\\frac{AN}{2} \\cdot \\frac{\\sin(\\pi(c-m))}{2\\pi(c-m))}\\Big|\\\\\n",
    "\\end{align}\n",
    "$$\n",
    "\n",
    "Where $A$ is the peak amplitude of the input, $N$ is the input sequence length, $c$ is the number of cycles completed in the input sequence time.  If $c$ is a whole number we just get the usual DFT response, but if $c$ is not a whole number, we get a spread across output frequency bins.\n"
   ]
  },
  {
   "cell_type": "markdown",
   "metadata": {},
   "source": [
    "Let's check whether the sinc function matches what we get in the DFT. First we write a function to evaluate the leakage function in between our DFT outputs."
   ]
  },
  {
   "cell_type": "code",
   "execution_count": null,
   "metadata": {},
   "outputs": [],
   "source": [
    "## Calculate the approximated leakage as the sinc function\n",
    "def calc_leakage(freq,  sample_rate, seqlen, amplitude=1):\n",
    "    sequence_time = (1/sample_rate)*seqlen\n",
    "   \n",
    "    ## number of cycles in input for component\n",
    "    c = freq * sequence_time\n",
    "    print(\"c=\", c)\n",
    "    \n",
    "    ## Interpolate between DFT ouput indices\n",
    "    ms = np.arange(0, seqlen, 0.05)\n",
    "    \n",
    "    ## Approximated response - we could actually just return a function here, but \n",
    "    ## let's just keep things concrete for now.\n",
    "    leakage = np.abs(amplitude * seqlen * 0.5 * np.sinc((c-ms)))\n",
    "\n",
    "    return leakage, ms * (sample_rate/seqlen)\n",
    "\n",
    "\n"
   ]
  },
  {
   "cell_type": "markdown",
   "metadata": {},
   "source": [
    "Now let's plot the leakage predicted for our two input components separately (top) and added together (bottom)"
   ]
  },
  {
   "cell_type": "code",
   "execution_count": null,
   "metadata": {},
   "outputs": [],
   "source": [
    "## Calculate the leakage function for our know input wave components\n",
    "leakage1, ms = calc_leakage(f_in1, f_s, N)\n",
    "leakage2, ms = calc_leakage(f_in2, f_s, N)\n",
    "\n",
    "\n",
    "## Plot the magnitude response and the leakage function for each of our input components\n",
    "fig, fdom = plt.subplots(figsize=(16, 4))\n",
    "fdom.set(xlim=(-1, N/2), ylim=(-1, N))\n",
    "fdom.scatter(dft_freqs, mags)\n",
    "\n",
    "\n",
    "fdom.plot(ms, leakage1)\n",
    "fdom.plot(ms, leakage2)\n",
    "fdom.set_xlabel(\"Frequency (Hz)\")\n",
    "fdom.set_ylabel(\"Magnitude\")\n",
    "fdom.set_title(\"Leakage function for each input component frequency\")\n",
    "\n",
    "## Plot the magnitude response and the sum of the leakage functions\n",
    "fig, fdom = plt.subplots(figsize=(16, 4))\n",
    "fdom.set(xlim=(-1, N/2), ylim=(-1, N))\n",
    "fdom.scatter(dft_freqs, mags)\n",
    "fdom.plot(ms, leakage1 + leakage2, color='C5')\n",
    "fdom.set_xlabel(\"Frequency (Hz)\")\n",
    "fdom.set_ylabel(\"Magnitude\")\n",
    "fdom.set_title(\"Sum of leakage functions for input components\")\n",
    "\n",
    "## It fits, though not perfectly!"
   ]
  },
  {
   "cell_type": "markdown",
   "metadata": {},
   "source": [
    "In the top figure, you should see that peaks (**main lobes**) of each leakage function are aligned with our input component frequencies. The peaks are at the same points as the DFT outputs when the sinusoidal component has a frequency matching the DFT output frequency (i.e. 12 above Hz).  Otherwise we see the spread of leakage around the input component frequency (i.e. around 4.5 Hz).  \n",
    "\n",
    "You'll also notice that our DFT magnitudes points don't always line up perfectly with our sinc curves.  Part of this is because the leakage function is an _approximation_.  Nevertheless, it's a very good approximation! "
   ]
  },
  {
   "cell_type": "markdown",
   "metadata": {},
   "source": [
    "### Exercise\n",
    "\n",
    "* What happens if the frequencies of the two components making the compound waveform are very close together? \n",
    "    * e.g. make `f_in2=6`\n",
    "* What if one of the components has a relatively small amplitude? \n",
    "    * e.g. change `amplitude` of the second input to 0.4"
   ]
  },
  {
   "cell_type": "markdown",
   "metadata": {},
   "source": [
    "### Notes"
   ]
  },
  {
   "cell_type": "code",
   "execution_count": null,
   "metadata": {},
   "outputs": [],
   "source": []
  },
  {
   "cell_type": "markdown",
   "metadata": {},
   "source": [
    "### Shaping the lobes\n",
    "The leakage sinc function has a peak around a specific frequency. If we want our DFT to be better able to distinguish between close frequencies, we need that peak, the **main lobe** to be narrower.  We also want the other peaks, the **side lobes** to be flatter.  We can achieve this using different **windowing methods** on our input.  This is why you see 'Hanning' as the default option for window method in the advanced spectrogram settings in praat.  \n",
    "\n",
    "We'll see some more examples of this when we look at different types of filters later.  But for now the main thing to observe is that leakage might give you the impression that specific frequency components are present in your waveform, when what's actually happening is that your waveform has frequencies that don't match the DFT phasors.  Another thing that can happen is that the peak for a low amplitude component gets subsumed into the main lobe of a nearby frequency component.  This might make you miss frequency components in your input! "
   ]
  },
  {
   "cell_type": "code",
   "execution_count": null,
   "metadata": {},
   "outputs": [],
   "source": []
  },
  {
   "cell_type": "markdown",
   "metadata": {},
   "source": [
    "## 5.6 Extra: \n",
    "\n",
    "Here's the composition and decomposition for the compound waveform one you saw in Notebook 2! "
   ]
  },
  {
   "cell_type": "code",
   "execution_count": null,
   "metadata": {},
   "outputs": [],
   "source": [
    "N=1028\n",
    "f_s = 1028\n",
    "f_in1 = 8 ## In between DFT output frequencies\n",
    "f_in2 = 20  ## One of the DFT outputs\n",
    "f_in3 = 36  ## One of the DFT outputs\n",
    "\n",
    "\n",
    "x1, time_steps = gen_sinusoid(frequency=f_in1, phase=0, amplitude=0.5, sample_rate=f_s, seq_length=N, gen_function=np.cos)\n",
    "x2, time_steps = gen_sinusoid(frequency=f_in2, phase=np.pi/2, amplitude=1, sample_rate=f_s, seq_length=N, gen_function=np.cos)\n",
    "x3, time_steps = gen_sinusoid(frequency=f_in3, phase=0, amplitude=0.3, sample_rate=f_s, seq_length=N, gen_function=np.cos)\n",
    "\n",
    "\n",
    "x_compound = x1  + x2 + x3\n",
    "\n",
    "## Plot the input\n",
    "fig, timedom = plt.subplots(figsize=(16, 4))\n",
    "#timedom.scatter(time_steps, x_compound, color='magenta')\n",
    "#timedom.set(xlim=(0, 0.2))\n",
    "timedom.plot(time_steps, x_compound, color='magenta')"
   ]
  },
  {
   "cell_type": "code",
   "execution_count": null,
   "metadata": {},
   "outputs": [],
   "source": [
    "## Plot the input\n",
    "\n",
    "fig = plt.figure(figsize=(15,15))\n",
    "gs = fig.add_gridspec(3,2)\n",
    "\n",
    "ymax=2\n",
    "timedom = fig.add_subplot(gs[0, 0])\n",
    "timedom.set(xlim=(-0.1, 1), ylim=(-ymax,ymax))\n",
    "timedom.plot(time_steps, x_compound, color='magenta')\n",
    "timedom.set_title(\"waveform made from adding 3 sine waves\")\n",
    "\n",
    "\n",
    "\n",
    "s1 = fig.add_subplot(gs[0, 1])\n",
    "s1.set(xlim=(-0.1, 1), ylim=(-ymax,ymax))\n",
    "s1.plot(time_steps, x1)\n",
    "s1.set_title(\"component 1: 8 Hz\")\n",
    "\n",
    "s2 = fig.add_subplot(gs[1, 1])\n",
    "s2.set(xlim=(-0.1, 1), ylim=(-ymax,ymax))\n",
    "s2.plot(time_steps, x2)\n",
    "s2.set_title(\"component 2: 20 Hz\")\n",
    "\n",
    "\n",
    "\n",
    "s3 = fig.add_subplot(gs[2, 1])\n",
    "s3.set(xlim=(-0.1, 1), ylim=(-ymax,ymax))\n",
    "s3.plot(time_steps, x3)\n",
    "s3.set_title(\"component 3: 36 Hz\")\n",
    "\n",
    "\n",
    "fig.savefig(\"./fig/compound_waveform.png\")"
   ]
  },
  {
   "cell_type": "code",
   "execution_count": null,
   "metadata": {},
   "outputs": [],
   "source": [
    "## Do the DFT on the compound waveform as above: \n",
    "mags, phases = get_dft_mag_phase(x_compound, seq_len=N)\n",
    "dft_freqs = get_dft_freqs_all(sample_rate=f_s, seq_len=N)\n",
    "\n",
    "## Plot the magnitudes\n",
    "fig,fdom = plt.subplots(figsize=(16, 4))\n",
    "fdom.set(xlim=(-1, N/2))\n",
    "## Just plot the first N/2 frequencies since we know that they are the mirrored for k>N/2\n",
    "fdom.scatter(dft_freqs[:round(N/2)], mags[:round(N/2)])\n",
    "fdom.set_xlabel(\"Frequency (Hz)\")\n",
    "fdom.set_ylabel(\"Magnitude\")\n",
    "fdom.set_title(\"Magnitude Response\")\n",
    "#print(mags)\n",
    "\n"
   ]
  },
  {
   "cell_type": "code",
   "execution_count": null,
   "metadata": {},
   "outputs": [],
   "source": []
  },
  {
   "cell_type": "code",
   "execution_count": null,
   "metadata": {},
   "outputs": [],
   "source": []
  }
 ],
 "metadata": {
  "kernelspec": {
   "display_name": "Python 3",
   "language": "python",
   "name": "python3"
  },
  "language_info": {
   "codemirror_mode": {
    "name": "ipython",
    "version": 3
   },
   "file_extension": ".py",
   "mimetype": "text/x-python",
   "name": "python",
   "nbconvert_exporter": "python",
   "pygments_lexer": "ipython3",
   "version": "3.7.3"
  }
 },
 "nbformat": 4,
 "nbformat_minor": 2
}
